{
 "cells": [
  {
   "cell_type": "code",
   "execution_count": 192,
   "metadata": {},
   "outputs": [],
   "source": [
    "import matplotlib.pyplot as plt\n",
    "import numpy as np\n",
    "import matplotlib.ticker as ticker"
   ]
  },
  {
   "cell_type": "code",
   "execution_count": 209,
   "metadata": {},
   "outputs": [
    {
     "data": {
      "text/plain": [
       "[200,\n",
       " 200,\n",
       " 200,\n",
       " 200,\n",
       " 200,\n",
       " 200,\n",
       " 200,\n",
       " 200,\n",
       " 200,\n",
       " 200,\n",
       " 289,\n",
       " 343,\n",
       " 382,\n",
       " 409,\n",
       " 425,\n",
       " 437,\n",
       " 447,\n",
       " 451,\n",
       " 457,\n",
       " 307,\n",
       " 284,\n",
       " 273,\n",
       " 269,\n",
       " 267,\n",
       " 265,\n",
       " 264,\n",
       " 264,\n",
       " 264,\n",
       " 220,\n",
       " 171,\n",
       " 127,\n",
       " 91,\n",
       " 65,\n",
       " 46,\n",
       " 32,\n",
       " 24,\n",
       " 16,\n",
       " 9,\n",
       " 7,\n",
       " 6,\n",
       " 3,\n",
       " 3,\n",
       " 2,\n",
       " 1,\n",
       " 0,\n",
       " 0,\n",
       " 0,\n",
       " 0,\n",
       " 0,\n",
       " 0,\n",
       " 0,\n",
       " 0,\n",
       " 0,\n",
       " 0,\n",
       " 0,\n",
       " 0,\n",
       " 0,\n",
       " 0,\n",
       " 0,\n",
       " 0,\n",
       " 0,\n",
       " 0,\n",
       " 0,\n",
       " 0,\n",
       " 0,\n",
       " 0,\n",
       " 0,\n",
       " 0,\n",
       " 0,\n",
       " 0,\n",
       " 0,\n",
       " 0,\n",
       " 0,\n",
       " 0,\n",
       " 0,\n",
       " 0,\n",
       " 0,\n",
       " 0,\n",
       " 0,\n",
       " 0,\n",
       " 0,\n",
       " 0,\n",
       " 0,\n",
       " 0,\n",
       " 0,\n",
       " 0,\n",
       " 0,\n",
       " 0,\n",
       " 0,\n",
       " 0,\n",
       " 0]"
      ]
     },
     "execution_count": 209,
     "metadata": {},
     "output_type": "execute_result"
    }
   ],
   "source": [
    "f = open('info_about_objects/for_graph.txt','r')\n",
    "data = f.read()\n",
    "num_iterations = 8\n",
    "means = data.split(':')\n",
    "prey_amount = []\n",
    "predators_amount = []\n",
    "stones_amount = []\n",
    "iterations = []\n",
    "for i in range(0,len(means),4):\n",
    "    if i != 0:\n",
    "        iterations.append(int(means[i-1]))\n",
    "for i in range(0,len(means),4):\n",
    "    if means[i] != '':\n",
    "        prey_amount.append(int(means[i]))\n",
    "\n",
    "for i in range(1,len(means),4):\n",
    "    predators_amount.append(int(means[i]))\n",
    "for i in range(2,len(means),4):\n",
    "    stones_amount.append(int(means[i]))\n",
    "predators_amount\n",
    "    \n",
    "        \n",
    "\n",
    "                \n",
    "    "
   ]
  },
  {
   "cell_type": "code",
   "execution_count": 210,
   "metadata": {},
   "outputs": [
    {
     "data": {
      "image/png": "[encoded data removed]",
      "text/plain": [
       "<Figure size 432x288 with 1 Axes>"
      ]
     },
     "metadata": {
      "needs_background": "light"
     },
     "output_type": "display_data"
    }
   ],
   "source": [
    "plt.plot(iterations,prey_amount,color = 'blue', label='Preys amount',linewidth=2.5)\n",
    "plt.plot(iterations,predators_amount,color = 'red', label='Predators amount',linewidth=2.5)\n",
    "plt.plot(iterations,stones_amount,color = 'black', label='Stones amount',linewidth=2.5)\n",
    "plt.grid()\n",
    "plt.ylabel('Amount',color = 'black',fontsize = 13)\n",
    "plt.xlabel('Iterations',color = 'black',fontsize = 13)\n",
    "#plt.xaxis.ticks([100, 200,300, 400,500, 600, 700,800, 900, 1000])\n",
    "plt.legend(loc='upper left')\n",
    "plt.savefig('Ocean_objects_200prey_200pred.png')\n",
    "\n"
   ]
  },
  {
   "cell_type": "code",
   "execution_count": null,
   "metadata": {},
   "outputs": [],
   "source": []
  }
 ],
 "metadata": {
  "kernelspec": {
   "display_name": "Python 3",
   "language": "python",
   "name": "python3"
  },
  "language_info": {
   "codemirror_mode": {
    "name": "ipython",
    "version": 3
   },
   "file_extension": ".py",
   "mimetype": "text/x-python",
   "name": "python",
   "nbconvert_exporter": "python",
   "pygments_lexer": "ipython3",
   "version": "3.6.6"
  }
 },
 "nbformat": 4,
 "nbformat_minor": 2
}
